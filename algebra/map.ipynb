{
 "cells": [
  {
   "cell_type": "markdown",
   "metadata": {},
   "source": [
    "## 写像"
   ]
  },
  {
   "cell_type": "markdown",
   "metadata": {},
   "source": [
    "#### $f:A \\rightarrow B$ を写像とする。このとき $A$ の部分集合 $A_1, A_2$ に対してつぎの式が成り立つことを証明せよ."
   ]
  },
  {
   "cell_type": "markdown",
   "metadata": {},
   "source": [
    "$\\bf{A_1 \\subset A_2 \\Rightarrow f(A_1) \\subset f(A_2)}$"
   ]
  },
  {
   "cell_type": "markdown",
   "metadata": {},
   "source": [
    "$\\,^{\\forall}b \\in f(A_1),\\,  ^{\\exists}a \\in A_1\\, s.t.\\, b = f(a)$\n",
    "\n",
    "$A_1 \\subset A_2 $ とおくと$,\\,a \\in A_1 \\subset A_2,\\, a \\in A_2$\n",
    "\n",
    "$i.e.\\, b = f(a) \\in f(A_2)$\n",
    "\n",
    "$\\therefore\\, f(A_1) \\subset f(A_2)\\\\*$"
   ]
  },
  {
   "cell_type": "markdown",
   "metadata": {},
   "source": [
    "$\\bf{(A_1 \\cup A_2) = f(A_1) \\cup f(A_2)}$"
   ]
  },
  {
   "cell_type": "markdown",
   "metadata": {},
   "source": [
    "$f(A_1 \\cup A_2) \\subset f(A_1) \\cup f(A_2)$ を示す.\n",
    "\n",
    "$\\,^{\\forall}b \\in f(A_1 \\cup A_2),\\, ^{\\exists}a \\in A_1 \\cup A_2\\, s.t.\\, b = f(a)$\n",
    "\n",
    "$a \\in A_1 \\Rightarrow b = f(a) \\in f(A_1) \\lor a \\in A_2 \\Rightarrow b = f(a) \\in f(A_2)$\n",
    "\n",
    "$\\therefore\\, b = f(a) \\in f(A_1) \\cup f(A_2)$"
   ]
  },
  {
   "cell_type": "markdown",
   "metadata": {},
   "source": [
    "$f(A_1 \\cup A_2) \\supset f(A_1) \\cup f(A_2)$ を示す.\n",
    "\n",
    "$\\,^{\\forall}b \\in f(A_1) \\cup f(A_2),$\n",
    "\n",
    "$b \\in f(A_1) \\Rightarrow ^{\\exists}a \\in A_1\\, s.t.\\, b = f(a) \\lor b \\in f(A_2) \\Rightarrow ^{\\exists}a \\in A_2\\, s.t.\\, b = f(a)$\n",
    "\n",
    "$i.e.\\, a \\in A_1 \\cup A_2$\n",
    "\n",
    "$\\therefore\\,  b = f(a) \\in f(A_1 \\cup A_2)$"
   ]
  },
  {
   "cell_type": "markdown",
   "metadata": {},
   "source": [
    "$\\therefore\\   f(A_1 \\cup A_2) = f(A_1) \\cup f(A_2)\\\\$"
   ]
  },
  {
   "cell_type": "markdown",
   "metadata": {},
   "source": [
    "$\\bf{f(A_1 \\cap A_2) \\subset f(A_1) \\cap f(A_2)}$"
   ]
  },
  {
   "cell_type": "markdown",
   "metadata": {},
   "source": [
    "$\\,^{\\forall}b \\in f(A_1 \\cap A_2),\\, ^{\\exists}a \\in A_1 \\cap A_2\\, s.t.\\, b = f(a)$\n",
    "\n",
    "$a \\in A_1 \\land a \\in A_2 \\Rightarrow b = f(a) \\in f(A_1) \\land b = f(a) \\in f(A_2)$\n",
    "\n",
    "$i.e.\\  b = f(a) \\in f(A_1) \\cap f(A_2)$\n",
    "\n",
    "$\\therefore\\,  f(A_1 \\cap A_2) \\subset f(A_1) \\cap f(A_2)\\\\$"
   ]
  },
  {
   "cell_type": "markdown",
   "metadata": {},
   "source": [
    "#### また, $B$ の部分集合 $B_1, B_2$ に対してつぎの式が成り立つことを証明せよ."
   ]
  },
  {
   "cell_type": "markdown",
   "metadata": {},
   "source": [
    "$\\bf{B_1 \\subset B_2 \\Rightarrow f^{-1}(B_1) \\subset f^{-1}(B_2)}$"
   ]
  },
  {
   "cell_type": "markdown",
   "metadata": {},
   "source": [
    "$\\,^{\\forall}a \\in f^{-1}(B_1),\\, ^{\\exists}b = f(a) \\in B_1\\, s.t.\\, a = f^{-1}(b)$\n",
    "\n",
    "$B_1 \\subset B_2$ とおくと$,\\,f(a) \\in B_1 \\subset B_2,\\, f(a) \\in B_2$\n",
    "\n",
    "$i.e.\\, a \\in f^{-1}(B_2)$\n",
    "\n",
    "$\\therefore\\  f{^-1}(B_1) \\subset f{^-1}(B_2)\\\\$"
   ]
  },
  {
   "cell_type": "markdown",
   "metadata": {},
   "source": [
    "$\\bf{f^{-1}(B_1 \\cup B_2) = f^{-1}(B_1) \\cup f^{-1}(B_2)}$"
   ]
  },
  {
   "cell_type": "markdown",
   "metadata": {},
   "source": [
    "$f^{-1}(B_1 \\cup B_2) \\subset f^{-1}(B_1) \\cup f^{-1}(B_2)$ を示す$.$\n",
    "\n",
    "$\\,^{\\forall}a \\in f^{-1}(B_1 \\cup B_2),\\  ^{\\exists}b \\in B_1 \\cup B_2\\,  s.t.\\,  a = f^{-1}(b)$\n",
    "\n",
    "$b \\in B_1 \\Rightarrow a = f^{-1}(b) \\in f^{-1}(B_1)$ $\\lor$\n",
    "$b \\in B_2 \\Rightarrow a = f^{-1}(b) \\in f^{-1}(B_2)$\n",
    "\n",
    "$\\therefore\\  a \\in f^{-1}(B_1) \\cup f^{-1}(B_2)$"
   ]
  },
  {
   "cell_type": "markdown",
   "metadata": {},
   "source": [
    "$f^{-1}(B_1 \\cup B_2) \\supset f^{-1}(B_1) \\cup f^{-1}(B_2)$ を示す$.$\n",
    "\n",
    "$\\,^{\\forall}a \\in f^{-1}(B_1) \\cup f^{-1}(B_2),$\n",
    "\n",
    "$a \\in f^{-1}(B_1) \\Rightarrow ^{\\exists}b \\in B_1\\, s.t.\\, a = f^{-1}(b)$ $\\lor$\n",
    "$a \\in f^{-1}(B_2) \\Rightarrow ^{\\exists}b \\in B_2\\, s.t.\\, a = f^{-1}(b)$\n",
    "\n",
    "$i.e.\\, b = f(a) \\in B_1 \\cup B_2$\n",
    "\n",
    "$\\therefore\\  a \\in f^{-1}(B_1 \\cup B_2)$"
   ]
  },
  {
   "cell_type": "markdown",
   "metadata": {},
   "source": [
    "$\\therefore\\  f^{-1}(B_1 \\cup B_2) = f^{-1}(B_1) \\cup f^{-1}(B_2)\\\\$"
   ]
  },
  {
   "cell_type": "markdown",
   "metadata": {},
   "source": [
    "$\\bf{f^{-1}(B_1 \\cap B_2) = f^{-1}(B_1) \\cap f^{-1}(B_2)}$"
   ]
  },
  {
   "cell_type": "markdown",
   "metadata": {
    "collapsed": true
   },
   "source": [
    "$f^{-1}(B_1 \\cap B_2) \\subset f^{-1}(B_1) \\cap f^{-1}(B_1)$ を示す."
   ]
  },
  {
   "cell_type": "markdown",
   "metadata": {},
   "source": [
    "$\\,^{\\forall}a \\in f^{-1}(B_1 \\cap B_2),\\  ^{\\exists}b = f(a) \\in B_1 \\cap B_2\\, s.t.\\, a = f^{-1}(b)$\n",
    "\n",
    "$f(a) \\in B_1 \\cap B_2 \\Rightarrow a \\in f^{-1}(B_1) \\land a \\in f^{-1}(B_2)$\n",
    "\n",
    "$i.e.\\, a \\in f^{-1}(B_1) \\cap f^{-1}(B_2)$\n",
    "\n",
    "$\\therefore\\  a \\in f^{-1}(B_1) \\cap f^{-1}(B_2)$"
   ]
  },
  {
   "cell_type": "markdown",
   "metadata": {},
   "source": [
    "$f^{-1}(B_1 \\cap B_2) \\supset f^{-1}(B_1) \\cap f^{-1}(B_1)$ を示す."
   ]
  },
  {
   "cell_type": "markdown",
   "metadata": {},
   "source": [
    "$\\,^{\\forall}a \\in f^{-1}(B_1) \\cap f^{-1}(B_1),\\  f(a) \\in B_1 \\land f(a) \\in B_2$\n",
    "\n",
    "$i.e.\\, f(a) \\in A_1 \\cap A_2$\n",
    "\n",
    "$\\therefore\\,a \\in f^{-1}(A_1 \\cap A_2)$"
   ]
  },
  {
   "cell_type": "markdown",
   "metadata": {},
   "source": [
    "$\\therefore\\,f^{-1}(B_1 \\cup B_2) = f^{-1}(B_1) \\cup f^{-1}(B_2)$"
   ]
  },
  {
   "cell_type": "code",
   "execution_count": null,
   "metadata": {
    "collapsed": true
   },
   "outputs": [],
   "source": []
  }
 ],
 "metadata": {
  "anaconda-cloud": {},
  "kernelspec": {
   "display_name": "Python [Root]",
   "language": "python",
   "name": "Python [Root]"
  },
  "language_info": {
   "codemirror_mode": {
    "name": "ipython",
    "version": 3
   },
   "file_extension": ".py",
   "mimetype": "text/x-python",
   "name": "python",
   "nbconvert_exporter": "python",
   "pygments_lexer": "ipython3",
   "version": "3.5.2"
  }
 },
 "nbformat": 4,
 "nbformat_minor": 1
}
