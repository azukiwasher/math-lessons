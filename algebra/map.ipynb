{
 "cells": [
  {
   "cell_type": "markdown",
   "metadata": {},
   "source": [
    "## 写像"
   ]
  },
  {
   "cell_type": "markdown",
   "metadata": {},
   "source": [
    "#### $f:A \\rightarrow B$ を写像とする. このとき $A$ の部分集合 $A_1, A_2$ に対してつぎの式が成り立つことを証明せよ.\n",
    "\n",
    "<br />"
   ]
  },
  {
   "cell_type": "markdown",
   "metadata": {},
   "source": [
    "- $A_1 \\subset A_2 \\Rightarrow f(A_1) \\subset f(A_2)$"
   ]
  },
  {
   "cell_type": "markdown",
   "metadata": {},
   "source": [
    "$\\,^{\\forall}b \\in f(A_1),\\,  ^{\\exists}a \\in A_1\\, s.t.\\, b = f(a)$\n",
    "\n",
    "$A_1 \\subset A_2$ とおくと$,\\,a \\in A_1 \\subset A_2,\\, a \\in A_2$\n",
    "\n",
    "$i.e.\\, b = f(a) \\in f(A_2)$\n",
    "\n",
    "$\\therefore\\, f(A_1) \\subset f(A_2)$\n",
    "\n",
    "<br />"
   ]
  },
  {
   "cell_type": "markdown",
   "metadata": {},
   "source": [
    "- $f(A_1 \\cup A_2) = f(A_1) \\cup f(A_2)$"
   ]
  },
  {
   "cell_type": "markdown",
   "metadata": {},
   "source": [
    "$f(A_1 \\cup A_2) \\subset f(A_1) \\cup f(A_2)$ を示す.\n",
    "\n",
    "$\\,^{\\forall}b \\in f(A_1 \\cup A_2),\\, ^{\\exists}a \\in A_1 \\cup A_2\\, s.t.\\, b = f(a)$\n",
    "\n",
    "$a \\in A_1 \\Rightarrow b = f(a) \\in f(A_1) \\lor a \\in A_2 \\Rightarrow b = f(a) \\in f(A_2)$\n",
    "\n",
    "$\\therefore\\, b = f(a) \\in f(A_1) \\cup f(A_2)$"
   ]
  },
  {
   "cell_type": "markdown",
   "metadata": {},
   "source": [
    "$f(A_1 \\cup A_2) \\supset f(A_1) \\cup f(A_2)$ を示す.\n",
    "\n",
    "$\\,^{\\forall}b \\in f(A_1) \\cup f(A_2),$\n",
    "\n",
    "$b \\in f(A_1) \\Rightarrow ^{\\exists}a \\in A_1\\, s.t.\\, b = f(a) \\lor b \\in f(A_2) \\Rightarrow ^{\\exists}a \\in A_2\\, s.t.\\, b = f(a)$\n",
    "\n",
    "$i.e.\\, a \\in A_1 \\cup A_2$\n",
    "\n",
    "$\\therefore\\,  b = f(a) \\in f(A_1 \\cup A_2)$"
   ]
  },
  {
   "cell_type": "markdown",
   "metadata": {},
   "source": [
    "$\\therefore\\   f(A_1 \\cup A_2) = f(A_1) \\cup f(A_2)$\n",
    "\n",
    "<br />"
   ]
  },
  {
   "cell_type": "markdown",
   "metadata": {},
   "source": [
    "- $f(A_1 \\cap A_2) \\subset f(A_1) \\cap f(A_2)$"
   ]
  },
  {
   "cell_type": "markdown",
   "metadata": {},
   "source": [
    "$\\,^{\\forall}b \\in f(A_1 \\cap A_2),\\, ^{\\exists}a \\in A_1 \\cap A_2\\, s.t.\\, b = f(a)$\n",
    "\n",
    "$a \\in A_1 \\land a \\in A_2 \\Rightarrow b = f(a) \\in f(A_1) \\land b = f(a) \\in f(A_2)$\n",
    "\n",
    "$i.e.\\  b = f(a) \\in f(A_1) \\cap f(A_2)$\n",
    "\n",
    "$\\therefore\\,  f(A_1 \\cap A_2) \\subset f(A_1) \\cap f(A_2)$\n",
    "\n",
    "<br />"
   ]
  },
  {
   "cell_type": "markdown",
   "metadata": {},
   "source": [
    "#### また, $B$ の部分集合 $B_1, B_2$ に対してつぎの式が成り立つことを証明せよ.\n",
    "\n",
    "<br />"
   ]
  },
  {
   "cell_type": "markdown",
   "metadata": {},
   "source": [
    "- $B_1 \\subset B_2 \\Rightarrow f^{-1}(B_1) \\subset f^{-1}(B_2)$"
   ]
  },
  {
   "cell_type": "markdown",
   "metadata": {},
   "source": [
    "$\\,^{\\forall}a \\in f^{-1}(B_1),\\, ^{\\exists}b = f(a) \\in B_1\\, s.t.\\, a = f^{-1}(b)$\n",
    "\n",
    "$B_1 \\subset B_2$ とおくと$,\\,f(a) \\in B_1 \\subset B_2,\\, f(a) \\in B_2$\n",
    "\n",
    "$i.e.\\, a \\in f^{-1}(B_2)$\n",
    "\n",
    "$\\therefore\\  f^{-1}(B_1) \\subset f^{-1}(B_2)$\n",
    "\n",
    "<br />"
   ]
  },
  {
   "cell_type": "markdown",
   "metadata": {},
   "source": [
    "- $f^{-1}(B_1 \\cup B_2) = f^{-1}(B_1) \\cup f^{-1}(B_2)$"
   ]
  },
  {
   "cell_type": "markdown",
   "metadata": {},
   "source": [
    "$f^{-1}(B_1 \\cup B_2) \\subset f^{-1}(B_1) \\cup f^{-1}(B_2)$ を示す.\n",
    "\n",
    "$\\,^{\\forall}a \\in f^{-1}(B_1 \\cup B_2),\\  ^{\\exists}b \\in B_1 \\cup B_2\\,  s.t.\\,  a = f^{-1}(b)$\n",
    "\n",
    "$b \\in B_1 \\Rightarrow a = f^{-1}(b) \\in f^{-1}(B_1)$ $\\lor$\n",
    "$b \\in B_2 \\Rightarrow a = f^{-1}(b) \\in f^{-1}(B_2)$\n",
    "\n",
    "$\\therefore\\  a \\in f^{-1}(B_1) \\cup f^{-1}(B_2)$"
   ]
  },
  {
   "cell_type": "markdown",
   "metadata": {},
   "source": [
    "$f^{-1}(B_1 \\cup B_2) \\supset f^{-1}(B_1) \\cup f^{-1}(B_2)$ を示す.\n",
    "\n",
    "$\\,^{\\forall}a \\in f^{-1}(B_1) \\cup f^{-1}(B_2),$\n",
    "\n",
    "$a \\in f^{-1}(B_1) \\Rightarrow ^{\\exists}b \\in B_1\\, s.t.\\, a = f^{-1}(b)$ $\\lor$\n",
    "$a \\in f^{-1}(B_2) \\Rightarrow ^{\\exists}b \\in B_2\\, s.t.\\, a = f^{-1}(b)$\n",
    "\n",
    "$i.e.\\, b = f(a) \\in B_1 \\cup B_2$\n",
    "\n",
    "$\\therefore\\  a \\in f^{-1}(B_1 \\cup B_2)$"
   ]
  },
  {
   "cell_type": "markdown",
   "metadata": {},
   "source": [
    "$\\therefore\\  f^{-1}(B_1 \\cup B_2) = f^{-1}(B_1) \\cup f^{-1}(B_2)$\n",
    "\n",
    "<br />"
   ]
  },
  {
   "cell_type": "markdown",
   "metadata": {},
   "source": [
    "- $f^{-1}(B_1 \\cap B_2) = f^{-1}(B_1) \\cap f^{-1}(B_2)$"
   ]
  },
  {
   "cell_type": "markdown",
   "metadata": {
    "collapsed": true
   },
   "source": [
    "$f^{-1}(B_1 \\cap B_2) \\subset f^{-1}(B_1) \\cap f^{-1}(B_1)$ を示す.\n",
    "\n",
    "$\\,^{\\forall}a \\in f^{-1}(B_1 \\cap B_2),\\  ^{\\exists}b = f(a) \\in B_1 \\cap B_2\\, s.t.\\, a = f^{-1}(b)$\n",
    "\n",
    "$f(a) \\in B_1 \\cap B_2 \\Rightarrow a \\in f^{-1}(B_1) \\land a \\in f^{-1}(B_2)$\n",
    "\n",
    "$i.e.\\, a \\in f^{-1}(B_1) \\cap f^{-1}(B_2)$\n",
    "\n",
    "$\\therefore\\  a \\in f^{-1}(B_1) \\cap f^{-1}(B_2)$"
   ]
  },
  {
   "cell_type": "markdown",
   "metadata": {},
   "source": [
    "$f^{-1}(B_1 \\cap B_2) \\supset f^{-1}(B_1) \\cap f^{-1}(B_1)$ を示す.\n",
    "\n",
    "$\\,^{\\forall}a \\in f^{-1}(B_1) \\cap f^{-1}(B_1),\\  f(a) \\in B_1 \\land f(a) \\in B_2$\n",
    "\n",
    "$i.e.\\, f(a) \\in B_1 \\cap B_2$\n",
    "\n",
    "$\\therefore\\,a \\in f^{-1}(B_1 \\cap B_2)$"
   ]
  },
  {
   "cell_type": "markdown",
   "metadata": {},
   "source": [
    "$\\therefore\\,f^{-1}(B_1 \\cup B_2) = f^{-1}(B_1) \\cup f^{-1}(B_2)$\n",
    "\n",
    "<br />"
   ]
  },
  {
   "cell_type": "markdown",
   "metadata": {},
   "source": [
    "#### $f: A \\rightarrow B$ を写像とするとき, つぎの $(1), (2)$ が同値であることを証明せよ.\n",
    "\n",
    "$(1)$ $f$ は単射である。\n",
    "\n",
    "$(2)$ 任意の部分集合 $S \\subset A$ に対し, $f^{-1}(f(S)) = S$ である.\n",
    "\n",
    "<br />"
   ]
  },
  {
   "cell_type": "markdown",
   "metadata": {},
   "source": [
    "$(1) \\Rightarrow (2)$ を示す.\n",
    "\n",
    "$f^{-1}(f(S)) = S$ を示す."
   ]
  },
  {
   "cell_type": "markdown",
   "metadata": {},
   "source": [
    "$(a)$\n",
    "\n",
    "$\\, f^{-1}(f(S)) \\subset S$\n",
    "\n",
    "$a \\in f^{-1}(f(S))$ とする. \n",
    "\n",
    "$f(a) \\in f(S)$,$\\,^{\\exists}b \\in S\\,s.t.\\,f(a) = f(b)$  となる.\n",
    "\n",
    "$f$ が単射より, $a = b \\in S$\n",
    "\n",
    "$\\therefore\\, f^{-1}(f(S)) \\subset S$"
   ]
  },
  {
   "cell_type": "markdown",
   "metadata": {},
   "source": [
    "$(b)$\n",
    "\n",
    "$ \\, S \\subset f^{-1}(f(S))$\n",
    "\n",
    "$a \\in S$ とする. \n",
    "\n",
    "$f(a) \\in f(S)$ となる.\n",
    "\n",
    "よって, $a \\in f^{-1}(f(S))$\n",
    "\n",
    "$\\therefore\\, S \\subset fi^{-1}(f(S))$"
   ]
  },
  {
   "cell_type": "markdown",
   "metadata": {},
   "source": [
    "$(a), (b)$ より, $f^{-1}(f(S)) = S$"
   ]
  },
  {
   "cell_type": "markdown",
   "metadata": {},
   "source": [
    "$(2) \\Rightarrow (1)$ を示す.\n",
    "\n",
    "$a, b \\in A, f(a) = f(b) \\Rightarrow a = b$ を示す."
   ]
  },
  {
   "cell_type": "markdown",
   "metadata": {},
   "source": [
    "$a, b \\in A, f(a) = f(b)$ とする.\n",
    "\n",
    "$S = \\{a\\}$ とすると, $(2)$ より $S = \\{a\\} = f^{-1}(\\{f(a)\\}) = f^{-1}(\\{f(b)\\}) = f^{-1}(f(\\{b\\}))$\n",
    "\n",
    "$S = \\{b\\}$ とすると, $(2)$ より $S = \\{b\\} = f^{-1}(\\{f(a)\\})$\n",
    "\n",
    "$\\therefore \\{a\\} = \\{b\\}$ つまり $a = b$\n",
    "\n",
    "<br />"
   ]
  },
  {
   "cell_type": "markdown",
   "metadata": {},
   "source": [
    "#### $f: A \\rightarrow B$ を写像とする. $A$ の部分集合 $A_1, A_2$ に対して, $f(A_1) \\cap f(A_2) \\subset f(A_1 \\cap A_2)$ の反例を示せ.\n",
    "\n",
    "<br />"
   ]
  },
  {
   "cell_type": "markdown",
   "metadata": {},
   "source": [
    "$a \\in A_1\\cap A_2$ として, 写像 $f$ に対して, $f(a) = a^{2}$ とする.\n",
    "\n",
    "$A_1 = \\{-1\\}, A_2 = \\{1\\}$ とおく.\n",
    "\n",
    "$A_1 \\cap A_2 = \\phi$\n",
    "\n",
    "$f(A_1 \\cap A_2) = \\phi$\n",
    "\n",
    "一方, \n",
    "\n",
    "$f(A_1) = \\{1\\},\\, f(A_2) = \\{1\\}$ より, \n",
    "\n",
    "$f(A_1) \\cap f(A_2) = \\{1\\}$\n",
    "\n",
    "$ \\{1\\} \\not\\subset \\phi$ つまり, $f(A_1) \\cap f(A_2) \\not \\subset f(A_1 \\cap A_2)$\n",
    "\n",
    "<br />"
   ]
  },
  {
   "cell_type": "markdown",
   "metadata": {},
   "source": [
    "#### $f: A \\rightarrow B$ を写像とするとき, つぎの $(1), (2)$ が同値であることを証明せよ.\n",
    "\n",
    "$(1)$ $f$ は単射である.\n",
    "\n",
    "$(2)$ 任意の部分集合 $A_1,A_2 \\subset A$ に対し, $f(A_1 \\cap A_2) = f(A_1) \\cap  f(A_2)$ である.\n",
    "\n",
    "$f(A_1 \\cap A_2) = f(A_1) \\cap  f(A_2)$ を示す.\n",
    "\n",
    "$a \\in A$ とおく.\n",
    "\n",
    "$\n",
    "f(a) \\in f(A_1 \\cap A_2) \\Rightarrow f(a) \\in f(A_1) \\land f(a) \\in f(A_2) \\\\\n",
    "\\therefore\\, f(A_1 \\cap A_2) \\subset f(A_1) \\cap f(A_2) \\\\\n",
    "$\n",
    "\n",
    "$f(a) \\in f(A_1) \\cap f(A_2)$ より,  $f$ は単射なので,\n",
    "\n",
    "$\n",
    "f^{-1}(f(a)) \\in A_1 \\land f^{-1}(f(a)) \\in A_2  \\Rightarrow a \\in A_1 \\cap A_2 \\\\\n",
    "\\therefore\\, f(A_1 \\cap A_2) \\supset f(A_1) \\cap f(A_2)\n",
    "$"
   ]
  },
  {
   "cell_type": "markdown",
   "metadata": {},
   "source": [
    "$a, a^{'} \\in A,\\, f(a) = f(a^{'}) \\Rightarrow a = a^{'}$ を示す.\n",
    "\n",
    "$\\{a\\} = A_1 \\cap A_2,\\,  \\{a^{'}, b\\} = A_1,\\, \\{a^{'}, c\\} = A_2$ とおく.\n",
    "\n",
    "$\n",
    "f(\\{a\\}) = f(A_1 \\cap A_2) = f(A_1) \\cap f(A_2) = f(\\{a^{'}, b\\}) \\cap f(\\{a^{'}, c\\}) = f(\\{a^{'}\\}) \\\\\n",
    "f(\\{a\\}) = f(\\{a^{'}\\}) = \\{a\\} = \\{a^{'}\\} = a = a^{'}\n",
    "$"
   ]
  },
  {
   "cell_type": "code",
   "execution_count": null,
   "metadata": {
    "collapsed": true
   },
   "outputs": [],
   "source": []
  }
 ],
 "metadata": {
  "anaconda-cloud": {},
  "kernelspec": {
   "display_name": "Python [default]",
   "language": "python",
   "name": "python3"
  },
  "language_info": {
   "codemirror_mode": {
    "name": "ipython",
    "version": 3
   },
   "file_extension": ".py",
   "mimetype": "text/x-python",
   "name": "python",
   "nbconvert_exporter": "python",
   "pygments_lexer": "ipython3",
   "version": "3.5.2"
  }
 },
 "nbformat": 4,
 "nbformat_minor": 1
}
