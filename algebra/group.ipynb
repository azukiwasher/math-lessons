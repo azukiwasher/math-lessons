{
 "cells": [
  {
   "cell_type": "markdown",
   "metadata": {},
   "source": [
    "## 群の基本"
   ]
  },
  {
   "cell_type": "markdown",
   "metadata": {},
   "source": [
    "### 2.1.1\n",
    "$G = \\{0, 1\\}$ とする. $0\\cdot0 = 0,\\, 0\\cdot1 = 1\\cdot0 = 0,\\, 1\\cdot1 = 1$ と定義すると, $G$ はこの演算により群にならないことを証明せよ."
   ]
  },
  {
   "cell_type": "markdown",
   "metadata": {},
   "source": [
    "証明\n",
    "\n",
    "$\n",
    "0 \\cdot 0 = 0 \\cdot 1 = 0 \\\\\n",
    "0^{-1} \\cdot 0 \\cdot 0 = 0^{-1} \\cdot 0 \\cdot 1 \\\\\n",
    "0 = 1\n",
    "$\n",
    "\n",
    "逆元が存在しないので, $G$ はこの演算により群ではない."
   ]
  },
  {
   "cell_type": "markdown",
   "metadata": {},
   "source": [
    "### 2.1.2\n",
    "$a,b \\in \\mathbb{R}$ に対し, $a \\circ b = a + b + ab$（$a+b, ab$ は通常の加法と乗法）と定義する. この演算により $\\mathbb{R}$ は群にならないことを証明せよ."
   ]
  },
  {
   "cell_type": "markdown",
   "metadata": {},
   "source": [
    "証明\n",
    "\n",
    "単位元を $e$ であらわす.<br />\n",
    "$a \\circ e  = a + e + ae = a$ とすると,\n",
    "\n",
    "$\n",
    "a + e + ae = a\\\\\n",
    "e + ae = 0 \\\\\n",
    "e = 0\n",
    "$\n",
    "\n",
    "同様に,<br />\n",
    "\n",
    "$\n",
    "e \\circ a  = e + a + ea = a\\\\\n",
    "e + a + ea = a\\\\\n",
    "e + ea = 0 \\\\\n",
    "e = 0\n",
    "$\n",
    "\n",
    "よって, $e = 0$\n",
    "\n",
    "$a \\circ a^{-1}  = e = 0$ とすると,\n",
    "\n",
    "$\n",
    "a + a^{-1} + aa^{-1} = 0\\\\\n",
    "a^{-1} + aa^{-1} = -a\\\\\n",
    "a^{-1}(1 + a) = -a\\\\\n",
    "a^{-1} = \\dfrac{-a}{(1+a)}\n",
    "$\n",
    "\n",
    "となり、$a = -1$ のとき逆元が存在しない。 <br />\n",
    "したがって, この演算により $\\mathbb{R}$ は群にならない."
   ]
  },
  {
   "cell_type": "markdown",
   "metadata": {},
   "source": [
    "### 2.1.4\n",
    "$G$ を群, $a,b,c,d \\in G$ とするとき, $((ab)c)d = a((bc)d)$ であることを証明せよ."
   ]
  },
  {
   "cell_type": "markdown",
   "metadata": {},
   "source": [
    "$((ab)c)d = (a(bc))d = a((bc)d)$ "
   ]
  },
  {
   "cell_type": "markdown",
   "metadata": {},
   "source": [
    "### 2.1.3\n",
    "$S_3$ の乗法表を作れ."
   ]
  },
  {
   "cell_type": "markdown",
   "metadata": {},
   "source": [
    "解答\n",
    "\n",
    "$\n",
    "(1) \\\\\n",
    "(1 \\, 2), (1 \\, 3), (2 \\, 3) \\\\\n",
    "(1 \\, 2 \\, 3), (1 \\, 3 \\, 2)\n",
    "$\n",
    "\n",
    "$\n",
    "\\begin{array}{ccccccc}\n",
    "\\hline ab & 1 & (1 \\, 2) & (1 \\, 3) & (2 \\, 3) & (1 \\, 2 \\, 3) & (1 \\, 3 \\, 2) \\\\\\hline\n",
    "1 & 1 & (1 \\, 2) & (1 \\, 3) & (2 \\, 3)  & (1 \\, 2 \\, 3) & (1 \\, 3 \\, 2) \\\\\\hline\n",
    "(1 \\, 2) & (1 \\, 2) & 1 & (1 \\, 3 \\, 2) & (1 \\, 2 \\, 3)  & (2 \\, 3) & (1 \\, 3) \\\\\\hline\n",
    "(1 \\, 3) & (1 \\, 3) & (1 \\, 2 \\, 3) & 1 & (1 \\, 3 \\, 2)  & (1 \\, 2) & (2 \\, 3) \\\\\\hline\n",
    "(2 \\, 3) & (2 \\, 3) & (1 \\, 3 \\, 2) & (1 \\, 2 \\, 3) & 1 & (1 \\, 3) & (1 \\, 2) \\\\\\hline\n",
    "(1 \\, 2 \\, 3)  & (1 \\, 2 \\, 3)  & (1 \\, 3)  & (2 \\, 3) & (1 \\, 2)  & (1 \\,3 \\, 2) & 1 \\\\\\hline\n",
    "(1 \\, 3 \\, 2)  & (1 \\, 3 \\, 2)  & (2 \\, 3)  & (1 \\, 2) & (1 \\, 3)  & 1 & (1 \\, 2 \\, 3) \\\\\\hline\n",
    "\\end{array}\n",
    "$"
   ]
  },
  {
   "cell_type": "markdown",
   "metadata": {},
   "source": [
    "### 2.1.5\n",
    "$G$ を群, $a,b,c,d \\in G$ で, $bac^{-1}d = abd$ であるとき, $c$ を他の元で表せ."
   ]
  },
  {
   "cell_type": "markdown",
   "metadata": {},
   "source": [
    "解答\n",
    "\n",
    "$\n",
    "bac^{-1}d = abd \\\\\n",
    "(ba)^{-1}bac^{-1}dd^{-1} = (ba)^{-1}abdd^{-1} \\\\\n",
    "c^{-1} = a^{-1}b^{-1}ab \\\\\n",
    "c = b^{-1}a^{-1}ba\n",
    "$"
   ]
  },
  {
   "cell_type": "markdown",
   "metadata": {},
   "source": [
    "#### $S_4$ の元, \n",
    "$\n",
    "\\sigma_{1} = (1 \\, 4 \\, 3 \\, 2) = \\left(\n",
    "    \\begin{array}{cccc}\n",
    "        1 & 2 & 3 & 4 \\\\\n",
    "        4 & 1 & 2 & 3\n",
    "    \\end{array}\\right) \\\\\n",
    "\\sigma_{2} = (1 \\, 3)(2 \\, 4) = \\left(\n",
    "    \\begin{array}{cccc}\n",
    "        1 & 2 & 3 & 4 \\\\\n",
    "        3 & 4 & 1 & 2 \n",
    "    \\end{array}\\right) \\\\\n",
    "\\sigma_{3} = (2 \\, 3 \\, 4) = \\left(\n",
    "    \\begin{array}{cccc}\n",
    "        1 & 2 & 3 & 4 \\\\\n",
    "        1 & 3 & 4 & 2 \n",
    "    \\end{array}\\right) \\\\\n",
    "\\sigma_{4} = (1 \\, 3) = \\left(\n",
    "    \\begin{array}{cccc}\n",
    "        1 & 2 & 3 & 4 \\\\\n",
    "        3 & 2 & 1 & 4\n",
    "    \\end{array}\\right)\n",
    "$\n",
    "\n",
    "を考える. 次の元を求めよ.\n",
    "\n",
    "$\n",
    "(1)\\, \\sigma_1^{-1} \\\\\n",
    "(2)\\, \\sigma_2^{-1} \\\\\n",
    "(3)\\, \\sigma_1\\sigma_3 \\\\\n",
    "(4)\\, \\sigma_2^{-1}\\sigma_4 \\\\\n",
    "(5)\\, \\sigma_3\\sigma_1\\sigma_3^{-1} \\\\\n",
    "(6)\\, \\sigma_2^{-1}\\sigma_4\\sigma_2 \\\\\n",
    "$\n",
    "\n",
    "解答\n",
    "\n",
    "$\n",
    "(1)\\, \\sigma_1^{-1} = (2\\,3\\,4\\,1) = \\left(\n",
    "    \\begin{array}{cccc}\n",
    "        1 & 2 & 3 & 4 \\\\\n",
    "        2 & 3 & 4 & 1\n",
    "    \\end{array}\\right)\\\\\n",
    "(2)\\, \\sigma_2^{-1} = (1\\,3)(2\\,4) = \n",
    "    \\left(\n",
    "        \\begin{array}{cccc}\n",
    "            1 & 2 & 3 & 4 \\\\\n",
    "            3 & 4 & 1 & 2 \n",
    "        \\end{array}\n",
    "   \\right) \\\\\n",
    "(3)\\, \\sigma_1\\sigma_3 = (1\\,4\\,3\\,2)(2\\,3\\,4) = \n",
    "    \\left(\n",
    "       \\begin{array}{cccc}\n",
    "           1 & 2 & 3 & 4 \\\\\n",
    "           4 & 1 & 2 & 3\n",
    "        \\end{array}\n",
    "   \\right)\n",
    "   \\left(\n",
    "       \\begin{array}{cccc}\n",
    "           1 & 2 & 3 & 4 \\\\\n",
    "           1 & 3 & 4 & 2 \n",
    "       \\end{array}\n",
    "   \\right) = \n",
    "   \\left(\n",
    "       \\begin{array}{cccc}\n",
    "           1 & 2 & 3 & 4 \\\\\n",
    "           4 & 2 & 3 & 1 \n",
    "       \\end{array}\n",
    "    \\right) = (1\\,4) \\\\\n",
    "(4)\\, \\sigma_2^{-1}\\sigma_4 =\n",
    "    \\left(\n",
    "       \\begin{array}{cccc}\n",
    "           1 & 2 & 3 & 4 \\\\\n",
    "           3 & 4 & 1 & 2\n",
    "        \\end{array}\n",
    "   \\right)\n",
    "   \\left(\n",
    "       \\begin{array}{cccc}\n",
    "           1 & 2 & 3 & 4 \\\\\n",
    "           3 & 2 & 1 & 4 \n",
    "       \\end{array}\n",
    "   \\right) = \n",
    "   \\left(\n",
    "       \\begin{array}{cccc}\n",
    "           1 & 2 & 3 & 4 \\\\\n",
    "           1 & 4 & 3 & 2 \n",
    "       \\end{array}\n",
    "    \\right) = (2\\,4) \\\\\n",
    "(5)\\, \\sigma_3\\sigma_1\\sigma_3^{-1} =\n",
    "    \\left(\n",
    "       \\begin{array}{cccc}\n",
    "           1 & 2 & 3 & 4 \\\\\n",
    "           1 & 3 & 4 & 2\n",
    "        \\end{array}\n",
    "   \\right)\n",
    "   \\left(\n",
    "       \\begin{array}{cccc}\n",
    "           1 & 2 & 3 & 4 \\\\\n",
    "           4 & 1 & 2 & 3 \n",
    "       \\end{array}\n",
    "   \\right)\n",
    "   \\left(\n",
    "       \\begin{array}{cccc}\n",
    "           1 & 2 & 3 & 4 \\\\\n",
    "           1 & 4 & 2 & 3 \n",
    "       \\end{array}\n",
    "   \\right) =\n",
    "   \\left(\n",
    "       \\begin{array}{cccc}\n",
    "           1 & 2 & 3 & 4 \\\\\n",
    "           2 & 4 & 1 & 3\n",
    "       \\end{array}\n",
    "    \\right) = (1\\,2\\,4\\,3) \\\\\n",
    "(6)\\, \\sigma_2^{-1}\\sigma_4\\sigma_2 = \n",
    "    \\left(\n",
    "       \\begin{array}{cccc}\n",
    "           1 & 2 & 3 & 4 \\\\\n",
    "           3 & 4 & 1 & 2\n",
    "        \\end{array}\n",
    "   \\right)\n",
    "   \\left(\n",
    "       \\begin{array}{cccc}\n",
    "           1 & 2 & 3 & 4 \\\\\n",
    "           3 & 2 & 1 & 4 \n",
    "       \\end{array}\n",
    "   \\right)\n",
    "   \\left(\n",
    "       \\begin{array}{cccc}\n",
    "           1 & 2 & 3 & 4 \\\\\n",
    "           3 & 4 & 1 & 2 \n",
    "       \\end{array}\n",
    "   \\right) =\n",
    "   \\left(\n",
    "       \\begin{array}{cccc}\n",
    "           1 & 2 & 3 & 4 \\\\\n",
    "           3 & 2 & 1 & 4\n",
    "       \\end{array}\n",
    "    \\right) = (1\\,3) \\\\\n",
    "$"
   ]
  },
  {
   "cell_type": "code",
   "execution_count": null,
   "metadata": {
    "collapsed": true
   },
   "outputs": [],
   "source": []
  }
 ],
 "metadata": {
  "anaconda-cloud": {},
  "kernelspec": {
   "display_name": "Python [default]",
   "language": "python",
   "name": "python3"
  },
  "language_info": {
   "codemirror_mode": {
    "name": "ipython",
    "version": 3
   },
   "file_extension": ".py",
   "mimetype": "text/x-python",
   "name": "python",
   "nbconvert_exporter": "python",
   "pygments_lexer": "ipython3",
   "version": "3.5.2"
  }
 },
 "nbformat": 4,
 "nbformat_minor": 1
}
