{
 "cells": [
  {
   "cell_type": "markdown",
   "metadata": {},
   "source": [
    "## well-defined"
   ]
  },
  {
   "cell_type": "markdown",
   "metadata": {},
   "source": [
    "$S  := \\{ (a, b) \\in \\mathbb{Z}^{2}\\,|\\,b \\neq 0\\}$\n",
    "\n",
    "$S$ に同値関係 $\\sim$ を, $(a, b) \\sim (c, d) \\underset{def.}{\\Leftrightarrow} ad - bc = 0$ で定める.\n",
    "\n",
    "$\\mathbb{Q}  := S/\\sim$\n",
    "\n",
    "$(a, b)$ の同値類のことを,\n",
    "\n",
    "$\\begin{eqnarray*}\n",
    "    \\dfrac{a}{b} \\nonumber \\nonumber\n",
    "\\end{eqnarray*}$\n",
    "と書く."
   ]
  },
  {
   "cell_type": "markdown",
   "metadata": {},
   "source": [
    "$\\begin{eqnarray*}\n",
    "    \\dfrac {a}{b} + \\dfrac {c}{b} & := & \\dfrac {ad + bc}{bd} \\nonumber \\\\\n",
    "    \\dfrac {a}{b} \\times \\dfrac {c}{b} & := & \\dfrac {ac}{bd} \\nonumber\n",
    "\\end{eqnarray*}$"
   ]
  },
  {
   "cell_type": "markdown",
   "metadata": {},
   "source": [
    "と定める."
   ]
  },
  {
   "cell_type": "markdown",
   "metadata": {},
   "source": [
    "well-defined を言う."
   ]
  },
  {
   "cell_type": "markdown",
   "metadata": {},
   "source": [
    "$\\begin{eqnarray*}\n",
    "    \\dfrac{a}{b} = \\dfrac{a^{'}}{b^{'}} \\nonumber \\\\\n",
    "    \\dfrac{c}{d} = \\dfrac{c^{'}}{d^{'}} \\nonumber\n",
    "\\end{eqnarray*}$\n",
    "\n",
    "とすると,\n",
    "\n",
    "$\\begin{eqnarray*}\n",
    "    {a}{b^{'}} - {a^{'}}{b} = 0 \\nonumber \\\\\n",
    "    {c}{d^{'}} - {c^{'}}{d} = 0 \\nonumber \n",
    "\\end{eqnarray*}$"
   ]
  },
  {
   "cell_type": "markdown",
   "metadata": {},
   "source": [
    "$\\begin{eqnarray*}\n",
    "    \\dfrac{ad+bc}{bd} = \\dfrac{a^{'}d^{'}+b^{'}c^{'}}{b^{'}d^{'}} \\nonumber\n",
    "\\end{eqnarray*}$"
   ]
  },
  {
   "cell_type": "markdown",
   "metadata": {},
   "source": [
    "$\\begin{eqnarray*}\n",
    "    (ad + bc)b^{'}d^{'} - bd(a^{'}d^{'} + b^{'}c^{'}) & = &  adb^{'}d^{'} + bcb^{'}d^{'} - bda^{'}d^{'} - bdb^{'}c^{'} \\nonumber \\\\\n",
    "                                                                & = &  dd^{'}(ab^{'} - a^{'}b) + bb^{'}(cd^{'} - c^{'}d)  \\nonumber \\\\\n",
    "                                                                & = & 0 \\nonumber \n",
    "\\end{eqnarray*}$"
   ]
  },
  {
   "cell_type": "markdown",
   "metadata": {},
   "source": [
    "$\\begin{eqnarray*}\n",
    "    \\dfrac{ac}{bd} = \\dfrac{a^{'}c^{'}}{b^{'}d^{'}}  \\nonumber \n",
    "\\end{eqnarray*}$"
   ]
  },
  {
   "cell_type": "markdown",
   "metadata": {},
   "source": [
    "$\\begin{eqnarray*}\n",
    "    {ac}{b^{'}d^{'}} - {a^{'}c^{'}}{bd} & = & {ab^{'}}{cd^{'}} - {a^{'}b}{c^{'}d}  \\nonumber  \\\\\n",
    "                                                & = & {ab^{'}}{c^{'}d} - {ab^{'}}{c^{'}d}  \\nonumber  \\\\\n",
    "                                                & = & 0  \\nonumber\n",
    "\\end{eqnarray*}$"
   ]
  },
  {
   "cell_type": "code",
   "execution_count": null,
   "metadata": {
    "collapsed": true
   },
   "outputs": [],
   "source": []
  }
 ],
 "metadata": {
  "anaconda-cloud": {},
  "kernelspec": {
   "display_name": "Python [Root]",
   "language": "python",
   "name": "Python [Root]"
  },
  "language_info": {
   "codemirror_mode": {
    "name": "ipython",
    "version": 3
   },
   "file_extension": ".py",
   "mimetype": "text/x-python",
   "name": "python",
   "nbconvert_exporter": "python",
   "pygments_lexer": "ipython3",
   "version": "3.5.2"
  }
 },
 "nbformat": 4,
 "nbformat_minor": 0
}
